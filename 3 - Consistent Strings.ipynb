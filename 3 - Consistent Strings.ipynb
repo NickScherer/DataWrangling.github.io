{
 "cells": [
  {
   "cell_type": "markdown",
   "metadata": {},
   "source": [
    "# 3 - Consistent Strings\n",
    "In this third step I'll show you how to fix inconsistent strings in the <code>category</code> column.\n",
    "\n",
    "You can use: comment of action, python coding and results."
   ]
  },
  {
   "cell_type": "code",
   "execution_count": 7,
   "metadata": {},
   "outputs": [
    {
     "data": {
      "text/html": [
       "<div>\n",
       "<style scoped>\n",
       "    .dataframe tbody tr th:only-of-type {\n",
       "        vertical-align: middle;\n",
       "    }\n",
       "\n",
       "    .dataframe tbody tr th {\n",
       "        vertical-align: top;\n",
       "    }\n",
       "\n",
       "    .dataframe thead th {\n",
       "        text-align: right;\n",
       "    }\n",
       "</style>\n",
       "<table border=\"1\" class=\"dataframe\">\n",
       "  <thead>\n",
       "    <tr style=\"text-align: right;\">\n",
       "      <th></th>\n",
       "      <th>amount</th>\n",
       "      <th>category</th>\n",
       "      <th>city</th>\n",
       "      <th>customer_id</th>\n",
       "      <th>date</th>\n",
       "      <th>frequently_bought_together</th>\n",
       "      <th>lat_lon</th>\n",
       "      <th>purchase</th>\n",
       "      <th>related_items</th>\n",
       "      <th>state</th>\n",
       "      <th>zip_code</th>\n",
       "    </tr>\n",
       "  </thead>\n",
       "  <tbody>\n",
       "    <tr>\n",
       "      <th>0</th>\n",
       "      <td>24.64</td>\n",
       "      <td>household</td>\n",
       "      <td>Chicago</td>\n",
       "      <td>100191</td>\n",
       "      <td>1-Jan-14</td>\n",
       "      <td>towels</td>\n",
       "      <td>41.86,-87.619</td>\n",
       "      <td>soap</td>\n",
       "      <td>towels</td>\n",
       "      <td>IL</td>\n",
       "      <td>60605</td>\n",
       "    </tr>\n",
       "    <tr>\n",
       "      <th>1</th>\n",
       "      <td>35</td>\n",
       "      <td>clothing</td>\n",
       "      <td>Dallas</td>\n",
       "      <td>100199</td>\n",
       "      <td>2-Jan-14</td>\n",
       "      <td>sandals</td>\n",
       "      <td>32.924,-96.547</td>\n",
       "      <td>shorts</td>\n",
       "      <td>belts</td>\n",
       "      <td>TX</td>\n",
       "      <td>75089</td>\n",
       "    </tr>\n",
       "    <tr>\n",
       "      <th>2</th>\n",
       "      <td>89.72</td>\n",
       "      <td>outdoor</td>\n",
       "      <td>Philadelphia</td>\n",
       "      <td>100170</td>\n",
       "      <td>3-Jan-14</td>\n",
       "      <td>lawn bags</td>\n",
       "      <td>40.002,-75.118</td>\n",
       "      <td>lawn_mower</td>\n",
       "      <td>shovels</td>\n",
       "      <td>PA</td>\n",
       "      <td>19019</td>\n",
       "    </tr>\n",
       "    <tr>\n",
       "      <th>3</th>\n",
       "      <td>51.32</td>\n",
       "      <td>electronics</td>\n",
       "      <td>Chicago</td>\n",
       "      <td>100124</td>\n",
       "      <td>4-Jan-14</td>\n",
       "      <td>headphones</td>\n",
       "      <td>41.88,-87.63</td>\n",
       "      <td>laptop</td>\n",
       "      <td>headphones</td>\n",
       "      <td>IL</td>\n",
       "      <td>60603</td>\n",
       "    </tr>\n",
       "    <tr>\n",
       "      <th>4</th>\n",
       "      <td>81.75</td>\n",
       "      <td>outdoor</td>\n",
       "      <td>Philadelphia</td>\n",
       "      <td>100173</td>\n",
       "      <td>5-Jan-14</td>\n",
       "      <td>sponge</td>\n",
       "      <td>39.953,-75.166</td>\n",
       "      <td>car wash</td>\n",
       "      <td>sponge</td>\n",
       "      <td>PA</td>\n",
       "      <td>19102</td>\n",
       "    </tr>\n",
       "  </tbody>\n",
       "</table>\n",
       "</div>"
      ],
      "text/plain": [
       "  amount     category          city  customer_id      date  \\\n",
       "0  24.64    household       Chicago       100191  1-Jan-14   \n",
       "1     35     clothing        Dallas       100199  2-Jan-14   \n",
       "2  89.72      outdoor  Philadelphia       100170  3-Jan-14   \n",
       "3  51.32  electronics       Chicago       100124  4-Jan-14   \n",
       "4  81.75      outdoor  Philadelphia       100173  5-Jan-14   \n",
       "\n",
       "  frequently_bought_together         lat_lon    purchase related_items state  \\\n",
       "0                     towels   41.86,-87.619        soap        towels    IL   \n",
       "1                    sandals  32.924,-96.547      shorts         belts    TX   \n",
       "2                  lawn bags  40.002,-75.118  lawn_mower       shovels    PA   \n",
       "3                 headphones    41.88,-87.63      laptop    headphones    IL   \n",
       "4                     sponge  39.953,-75.166    car wash        sponge    PA   \n",
       "\n",
       "   zip_code  \n",
       "0     60605  \n",
       "1     75089  \n",
       "2     19019  \n",
       "3     60603  \n",
       "4     19102  "
      ]
     },
     "execution_count": 7,
     "metadata": {},
     "output_type": "execute_result"
    }
   ],
   "source": [
    "import pandas as pd \n",
    "\n",
    "df = pd.read_json(\"customer_data.json\", convert_dates=False)\n",
    "df.head()"
   ]
  },
  {
   "cell_type": "markdown",
   "metadata": {},
   "source": [
    "Lets take a quick look at the data using the <code>.unique()</code> method."
   ]
  },
  {
   "cell_type": "code",
   "execution_count": 8,
   "metadata": {},
   "outputs": [
    {
     "name": "stdout",
     "output_type": "stream",
     "text": [
      "['household' 'clothing' 'outdoor' 'electronics' 'appliances' 'house'\n",
      " 'elect^ronics' '^electro$nics' 'outdo&or' 'household_' '?out$door' 'elec'\n",
      " 'app' 'house_hold' '%appliances' '\\\\appliances' 'electronic']\n"
     ]
    }
   ],
   "source": [
    "print(df[\"category\"].unique())"
   ]
  },
  {
   "cell_type": "markdown",
   "metadata": {},
   "source": [
    "Not all of the strings have consistent formats.\n",
    "\n",
    "The <code>household</code> category shows up with the following inconsistent formats <code>[\"household_\", \"house\", \"house_hold\"]</code>."
   ]
  },
  {
   "cell_type": "code",
   "execution_count": 9,
   "metadata": {},
   "outputs": [
    {
     "name": "stdout",
     "output_type": "stream",
     "text": [
      "['household' 'clothing' 'outdoor' 'electronics' 'appliances'\n",
      " 'elect^ronics' '^electro$nics' 'outdo&or' '?out$door' 'elec' 'app'\n",
      " '%appliances' '\\\\appliances' 'electronic']\n"
     ]
    }
   ],
   "source": [
    "inconsistent_format = [\"household_\", \"house\", \"house_hold\"]\n",
    "\n",
    "cnt = 0\n",
    "\n",
    "for row in df[\"category\"]:\n",
    "    if row in inconsistent_format:\n",
    "        df.loc[cnt, \"category\"] = \"household\"\n",
    "    cnt+=1\n",
    "    \n",
    "print(df[\"category\"].unique())"
   ]
  },
  {
   "cell_type": "markdown",
   "metadata": {},
   "source": [
    "We now see that we have one consistent format for <code>household</code>.\n",
    "\n",
    "Use this same process to clean the other inconsistent strings."
   ]
  }
 ],
 "metadata": {
  "kernelspec": {
   "display_name": "Python 3",
   "language": "python",
   "name": "python3"
  },
  "language_info": {
   "codemirror_mode": {
    "name": "ipython",
    "version": 3
   },
   "file_extension": ".py",
   "mimetype": "text/x-python",
   "name": "python",
   "nbconvert_exporter": "python",
   "pygments_lexer": "ipython3",
   "version": "3.7.4"
  }
 },
 "nbformat": 4,
 "nbformat_minor": 2
}
