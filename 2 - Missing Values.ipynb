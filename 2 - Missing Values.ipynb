{
 "cells": [
  {
   "cell_type": "markdown",
   "metadata": {},
   "source": [
    "# 2 - Missing Values\n",
    "In this second step I'll show you how to detect and clean missing values in the <code>purchase</code> column.\n",
    "\n",
    "You will see: comment of action, python code and results."
   ]
  },
  {
   "cell_type": "code",
   "execution_count": 1,
   "metadata": {},
   "outputs": [
    {
     "data": {
      "text/html": [
       "<div>\n",
       "<style scoped>\n",
       "    .dataframe tbody tr th:only-of-type {\n",
       "        vertical-align: middle;\n",
       "    }\n",
       "\n",
       "    .dataframe tbody tr th {\n",
       "        vertical-align: top;\n",
       "    }\n",
       "\n",
       "    .dataframe thead th {\n",
       "        text-align: right;\n",
       "    }\n",
       "</style>\n",
       "<table border=\"1\" class=\"dataframe\">\n",
       "  <thead>\n",
       "    <tr style=\"text-align: right;\">\n",
       "      <th></th>\n",
       "      <th>amount</th>\n",
       "      <th>category</th>\n",
       "      <th>city</th>\n",
       "      <th>customer_id</th>\n",
       "      <th>date</th>\n",
       "      <th>frequently_bought_together</th>\n",
       "      <th>lat_lon</th>\n",
       "      <th>purchase</th>\n",
       "      <th>related_items</th>\n",
       "      <th>state</th>\n",
       "      <th>zip_code</th>\n",
       "    </tr>\n",
       "  </thead>\n",
       "  <tbody>\n",
       "    <tr>\n",
       "      <th>0</th>\n",
       "      <td>24.64</td>\n",
       "      <td>household</td>\n",
       "      <td>Chicago</td>\n",
       "      <td>100191</td>\n",
       "      <td>1-Jan-14</td>\n",
       "      <td>towels</td>\n",
       "      <td>41.86,-87.619</td>\n",
       "      <td>soap</td>\n",
       "      <td>towels</td>\n",
       "      <td>IL</td>\n",
       "      <td>60605</td>\n",
       "    </tr>\n",
       "    <tr>\n",
       "      <th>1</th>\n",
       "      <td>35</td>\n",
       "      <td>clothing</td>\n",
       "      <td>Dallas</td>\n",
       "      <td>100199</td>\n",
       "      <td>2-Jan-14</td>\n",
       "      <td>sandals</td>\n",
       "      <td>32.924,-96.547</td>\n",
       "      <td>shorts</td>\n",
       "      <td>belts</td>\n",
       "      <td>TX</td>\n",
       "      <td>75089</td>\n",
       "    </tr>\n",
       "    <tr>\n",
       "      <th>2</th>\n",
       "      <td>89.72</td>\n",
       "      <td>outdoor</td>\n",
       "      <td>Philadelphia</td>\n",
       "      <td>100170</td>\n",
       "      <td>3-Jan-14</td>\n",
       "      <td>lawn bags</td>\n",
       "      <td>40.002,-75.118</td>\n",
       "      <td>lawn_mower</td>\n",
       "      <td>shovels</td>\n",
       "      <td>PA</td>\n",
       "      <td>19019</td>\n",
       "    </tr>\n",
       "    <tr>\n",
       "      <th>3</th>\n",
       "      <td>51.32</td>\n",
       "      <td>electronics</td>\n",
       "      <td>Chicago</td>\n",
       "      <td>100124</td>\n",
       "      <td>4-Jan-14</td>\n",
       "      <td>headphones</td>\n",
       "      <td>41.88,-87.63</td>\n",
       "      <td>laptop</td>\n",
       "      <td>headphones</td>\n",
       "      <td>IL</td>\n",
       "      <td>60603</td>\n",
       "    </tr>\n",
       "    <tr>\n",
       "      <th>4</th>\n",
       "      <td>81.75</td>\n",
       "      <td>outdoor</td>\n",
       "      <td>Philadelphia</td>\n",
       "      <td>100173</td>\n",
       "      <td>5-Jan-14</td>\n",
       "      <td>sponge</td>\n",
       "      <td>39.953,-75.166</td>\n",
       "      <td>car wash</td>\n",
       "      <td>sponge</td>\n",
       "      <td>PA</td>\n",
       "      <td>19102</td>\n",
       "    </tr>\n",
       "  </tbody>\n",
       "</table>\n",
       "</div>"
      ],
      "text/plain": [
       "  amount     category          city  customer_id      date  \\\n",
       "0  24.64    household       Chicago       100191  1-Jan-14   \n",
       "1     35     clothing        Dallas       100199  2-Jan-14   \n",
       "2  89.72      outdoor  Philadelphia       100170  3-Jan-14   \n",
       "3  51.32  electronics       Chicago       100124  4-Jan-14   \n",
       "4  81.75      outdoor  Philadelphia       100173  5-Jan-14   \n",
       "\n",
       "  frequently_bought_together         lat_lon    purchase related_items state  \\\n",
       "0                     towels   41.86,-87.619        soap        towels    IL   \n",
       "1                    sandals  32.924,-96.547      shorts         belts    TX   \n",
       "2                  lawn bags  40.002,-75.118  lawn_mower       shovels    PA   \n",
       "3                 headphones    41.88,-87.63      laptop    headphones    IL   \n",
       "4                     sponge  39.953,-75.166    car wash        sponge    PA   \n",
       "\n",
       "   zip_code  \n",
       "0     60605  \n",
       "1     75089  \n",
       "2     19019  \n",
       "3     60603  \n",
       "4     19102  "
      ]
     },
     "execution_count": 1,
     "metadata": {},
     "output_type": "execute_result"
    }
   ],
   "source": [
    "import pandas as pd\n",
    "\n",
    "df = pd.read_json(\"customer_data.json\", convert_dates = False)\n",
    "df.head()"
   ]
  },
  {
   "cell_type": "markdown",
   "metadata": {},
   "source": [
    "Taking a look at unique values, and missing values.\n",
    "\n",
    "The <code>.isna()</code> method will only find standard missing value types, so we'll need to use the <code>.unique()</code> method for identifying non-standard missing values."
   ]
  },
  {
   "cell_type": "code",
   "execution_count": 2,
   "metadata": {},
   "outputs": [
    {
     "name": "stdout",
     "output_type": "stream",
     "text": [
      "['soap' 'shorts' 'lawn_mower' 'laptop' 'car wash' 'lawn mower' 'grill'\n",
      " 'household cleaner' 'slow cooker' 'camera' 'snow shovel' 'shoes'\n",
      " 'blender' 'shirts' 'toaster' 'detergent' 'tv' 'paper products' 'tools'\n",
      " 'pants' 'audio' 'microwave' 'food processor' 'jackets' 'cell phone'\n",
      " 'flower pot' None '?' '__' 'na' '--' 'cell' 'cell_phone' 'lawnmower'\n",
      " '1111']\n",
      "36\n"
     ]
    }
   ],
   "source": [
    "print(df[\"purchase\"].unique())\n",
    "print(sum(df[\"purchase\"].isna()))"
   ]
  },
  {
   "cell_type": "markdown",
   "metadata": {},
   "source": [
    "Lets change the standard missing values to a new category called <code>unavailable</code>.\n",
    "\n",
    "We can double check that it worked by summing for missing values using the <code>.isna()</code> method after we've changed the missing values using the <code>.fillna()</code> method. If it worked, the sum should be 0.\n",
    "\n",
    "We can also take a look at the unique values again to see if this new <code>unavailable</code> shows up."
   ]
  },
  {
   "cell_type": "code",
   "execution_count": 3,
   "metadata": {},
   "outputs": [
    {
     "name": "stdout",
     "output_type": "stream",
     "text": [
      "0\n",
      "['soap' 'shorts' 'lawn_mower' 'laptop' 'car wash' 'lawn mower' 'grill'\n",
      " 'household cleaner' 'slow cooker' 'camera' 'snow shovel' 'shoes'\n",
      " 'blender' 'shirts' 'toaster' 'detergent' 'tv' 'paper products' 'tools'\n",
      " 'pants' 'audio' 'microwave' 'food processor' 'jackets' 'cell phone'\n",
      " 'flower pot' 'unavailable' '?' '__' 'na' '--' 'cell' 'cell_phone'\n",
      " 'lawnmower' '1111']\n"
     ]
    }
   ],
   "source": [
    "# changing standard missing values to \"unavailable\"\n",
    "df[\"purchase\"].fillna(\"unavailable\", inplace=True)\n",
    "\n",
    "# double checking that it worked by summing for missing values, and looking at unique categories\n",
    "print(sum(df[\"purchase\"].isna()))\n",
    "print(df[\"purchase\"].unique())"
   ]
  },
  {
   "cell_type": "markdown",
   "metadata": {},
   "source": [
    "We can see several non-standard missing value types.\n",
    "\n",
    "Lets identify those by using a list of <code>missing_values</code> which contains the following <code>[\"?\", \"__\", \"na\", \"--\"]</code>.\n",
    "\n",
    "We'll replace them by looping through the <code>purchase</code> column, and replacing the non-standard missing values using the <code>.loc()</code> method."
   ]
  },
  {
   "cell_type": "code",
   "execution_count": 5,
   "metadata": {},
   "outputs": [
    {
     "name": "stdout",
     "output_type": "stream",
     "text": [
      "['soap' 'shorts' 'lawn_mower' 'laptop' 'car wash' 'lawn mower' 'grill'\n",
      " 'household cleaner' 'slow cooker' 'camera' 'snow shovel' 'shoes'\n",
      " 'blender' 'shirts' 'toaster' 'detergent' 'tv' 'paper products' 'tools'\n",
      " 'pants' 'audio' 'microwave' 'food processor' 'jackets' 'cell phone'\n",
      " 'flower pot' 'unavailable' 'cell' 'cell_phone' 'lawnmower' '1111']\n"
     ]
    }
   ],
   "source": [
    "# list of non-standard missing values\n",
    "missing_values = [\"?\", \"__\", \"na\", \"--\"]\n",
    "\n",
    "# replacing the missing values with the new category, \"unavailable\"\n",
    "cnt = 0\n",
    "for i in df[\"purchase\"]:\n",
    "    if i in missing_values:\n",
    "        df.loc[cnt, \"purchase\"] = \"unavailable\"\n",
    "    cnt+=1\n",
    "\n",
    "print(df[\"purchase\"].unique())"
   ]
  },
  {
   "cell_type": "markdown",
   "metadata": {},
   "source": [
    "We could also convert missing values when we read in the data.\n",
    "\n",
    "The <code>.read_json()</code> method does not have the <code>na_values</code> parameter like <code>.read_csv()</code> does. \n",
    "\n",
    "We'll need to read in the <code>json</code> file, convert it to a <code>csv</code> file, and then read it back in using <code>.read_csv()</code>."
   ]
  },
  {
   "cell_type": "code",
   "execution_count": 7,
   "metadata": {},
   "outputs": [
    {
     "name": "stdout",
     "output_type": "stream",
     "text": [
      "['soap' 'shorts' 'lawn_mower' 'laptop' 'car wash' 'lawn mower' 'grill'\n",
      " 'household cleaner' 'slow cooker' 'camera' 'snow shovel' 'shoes'\n",
      " 'blender' 'shirts' 'toaster' 'detergent' 'tv' 'paper products' 'tools'\n",
      " 'pants' 'audio' 'microwave' 'food processor' 'jackets' 'cell phone'\n",
      " 'flower pot' nan 'cell' 'cell_phone' 'lawnmower' '1111']\n"
     ]
    }
   ],
   "source": [
    "# reading in the json file\n",
    "df = pd.read_json(\"customer_data.json\", convert_dates = False)\n",
    "\n",
    "# writing the json file to a csv file\n",
    "df.to_csv(\"customer_data2.csv\")\n",
    "\n",
    "# reading the csv file back in, replacing missing values\n",
    "df2 = pd.read_csv(\"customer_data2.csv\", na_values=missing_values)\n",
    "\n",
    "print(df2[\"purchase\"].unique())"
   ]
  },
  {
   "cell_type": "markdown",
   "metadata": {},
   "source": [
    "The non-standard missing values have all been changed to missing values.\n",
    "\n",
    "Lets finish up by replacing the missing values with the new category, <code>unavailable</code>."
   ]
  },
  {
   "cell_type": "code",
   "execution_count": 8,
   "metadata": {},
   "outputs": [
    {
     "name": "stdout",
     "output_type": "stream",
     "text": [
      "0\n",
      "['soap' 'shorts' 'lawn_mower' 'laptop' 'car wash' 'lawn mower' 'grill'\n",
      " 'household cleaner' 'slow cooker' 'camera' 'snow shovel' 'shoes'\n",
      " 'blender' 'shirts' 'toaster' 'detergent' 'tv' 'paper products' 'tools'\n",
      " 'pants' 'audio' 'microwave' 'food processor' 'jackets' 'cell phone'\n",
      " 'flower pot' 'unavailable' 'cell' 'cell_phone' 'lawnmower' '1111']\n"
     ]
    }
   ],
   "source": [
    "# changing missing values to \"unavailable\"\n",
    "df2[\"purchase\"].fillna(\"unavailable\", inplace=True)\n",
    "\n",
    "# double checking that it worked by summing for missing values, and looking at unique categories\n",
    "print(sum(df2[\"purchase\"].isna()))\n",
    "print(df2[\"purchase\"].unique())"
   ]
  }
 ],
 "metadata": {
  "kernelspec": {
   "display_name": "Python 3",
   "language": "python",
   "name": "python3"
  },
  "language_info": {
   "codemirror_mode": {
    "name": "ipython",
    "version": 3
   },
   "file_extension": ".py",
   "mimetype": "text/x-python",
   "name": "python",
   "nbconvert_exporter": "python",
   "pygments_lexer": "ipython3",
   "version": "3.7.0"
  }
 },
 "nbformat": 4,
 "nbformat_minor": 2
}
