{
 "cells": [
  {
   "cell_type": "markdown",
   "metadata": {},
   "source": [
    "# 5 - Importing XML\n",
    "In this fifth step I'll show you how to import and parse the XML data."
   ]
  },
  {
   "cell_type": "code",
   "execution_count": 2,
   "metadata": {},
   "outputs": [
    {
     "name": "stdout",
     "output_type": "stream",
     "text": [
      "data-set\n"
     ]
    }
   ],
   "source": [
    "import pandas as pd\n",
    "import xml.etree.ElementTree as ET\n",
    "\n",
    "tree = ET.parse(\"data-set.xml\")\n",
    "root = tree.getroot()\n",
    "\n",
    "print(root.tag)"
   ]
  },
  {
   "cell_type": "markdown",
   "metadata": {},
   "source": [
    "Taking a look we can see that the root tag is <code>data-set</code>."
   ]
  },
  {
   "cell_type": "code",
   "execution_count": 4,
   "metadata": {},
   "outputs": [
    {
     "name": "stdout",
     "output_type": "stream",
     "text": [
      "record\n"
     ]
    }
   ],
   "source": [
    "print(root[0].tag)"
   ]
  },
  {
   "cell_type": "markdown",
   "metadata": {},
   "source": [
    "The next child sub element tag is <code>record</code>."
   ]
  },
  {
   "cell_type": "code",
   "execution_count": 8,
   "metadata": {},
   "outputs": [
    {
     "data": {
      "text/plain": [
       "50"
      ]
     },
     "execution_count": 8,
     "metadata": {},
     "output_type": "execute_result"
    }
   ],
   "source": [
    "# How many child elements?\n",
    "\n",
    "child_tags = []\n",
    "for child in root:\n",
    "    child_tags.append(child.tag)\n",
    "\n",
    "len(child_tags)"
   ]
  },
  {
   "cell_type": "markdown",
   "metadata": {},
   "source": [
    "Looping through all of the <code>record</code> children sub element tags, we can see that we have 50. This corresponds to 50 records of data.\n",
    "\n",
    "Let's take a look at the children element tags contained in <code>record</code>."
   ]
  },
  {
   "cell_type": "code",
   "execution_count": 9,
   "metadata": {},
   "outputs": [
    {
     "name": "stdout",
     "output_type": "stream",
     "text": [
      "City\n"
     ]
    }
   ],
   "source": [
    "print(root[0][0].tag)"
   ]
  },
  {
   "cell_type": "markdown",
   "metadata": {},
   "source": [
    "Taking a quick look, we can see that the first is <code>City</code>. Let's look for all of the tags, as well as their corresponding data."
   ]
  },
  {
   "cell_type": "code",
   "execution_count": 11,
   "metadata": {},
   "outputs": [
    {
     "name": "stdout",
     "output_type": "stream",
     "text": [
      "City New York City\n",
      "Zipcode 10012\n",
      "Latitude_Longitude 40.726,-73.998\n"
     ]
    }
   ],
   "source": [
    "for child in root[0]:\n",
    "    print(child.tag, child.text)"
   ]
  },
  {
   "cell_type": "markdown",
   "metadata": {},
   "source": [
    "Taking a look we can see that our first record contains <code>City</code>, <code>Zipcode</code>, and <code>Latitude_Longitude</code> tags.\n",
    "\n",
    "The data in these tags is <code>New York City</code>, <code>10012</code>, and <code>40.726,-73.998</code>.\n",
    "\n",
    "If we open up the <code>data-set.xml</code> file in a text editor, we can confirm that this is in fact the first record.\n",
    "\n",
    "Let's start parsing and gathering all of the data. We'll start by making a list of the tags to use for the columns."
   ]
  },
  {
   "cell_type": "code",
   "execution_count": 13,
   "metadata": {},
   "outputs": [
    {
     "name": "stdout",
     "output_type": "stream",
     "text": [
      "['City', 'Zipcode', 'Latitude_Longitude']\n"
     ]
    }
   ],
   "source": [
    "# getting all of the child tags for column names\n",
    "\n",
    "names = []\n",
    "\n",
    "for child in root[0]:\n",
    "    names.append(child.tag)\n",
    "\n",
    "print(names)"
   ]
  },
  {
   "cell_type": "markdown",
   "metadata": {},
   "source": [
    "Next, let's gather all of the data.\n",
    "\n",
    "We'll create a dictionary using the list entries <code>['City', 'Zipcode', 'Latitude_Longitude']</code> as the keys. These will be our columns.\n",
    "\n",
    "We'll collect the actual data using lists. These lists will be the values in our dictionary. "
   ]
  },
  {
   "cell_type": "code",
   "execution_count": 14,
   "metadata": {},
   "outputs": [
    {
     "name": "stdout",
     "output_type": "stream",
     "text": [
      "{'City': ['New York City', 'New York City', 'New York City', 'New York City', 'New York City', 'Los Angeles', 'Los Angeles', 'Los Angeles', 'Los Angeles', 'Los Angeles', 'Chicago', 'Chicago', 'Chicago', 'Chicago', 'Chicago', 'Houston', 'Houston', 'Houston', 'Houston', 'Houston', 'Philadelphia', 'Philadelphia', 'Philadelphia', 'Philadelphia', 'Philadelphia', 'Phoenix', 'Phoenix', 'Phoenix', 'Phoenix', 'Phoenix', 'San Antonio', 'San Antonio', 'San Antonio', 'San Antonio', 'San Antonio', 'San Diego', 'San Diego', 'San Diego', 'San Diego', 'San Diego', 'Dallas', 'Dallas', 'Dallas', 'Dallas', 'Dallas', 'San Jose', 'San Jose', 'San Jose', 'San Jose', 'San Jose'], 'Zipcode': ['10012', '10013', '10004', '10128', '10002', '90001', '90016', '90008', '90020', '90029', '60610', '60611', '60605', '60602', '60603', '77001', '77005', '77009', '77004', '77012', '19019', '19102', '19110', '19115', '19118', '85001', '85004', '85015', '85019', '85027', '78006', '78109', '78206', '78214', '78073', '91911', '92037', '92102', '92107', '92027', '75001', '75043', '75063', '75089', '75126', '94088', '95002', '95103', '95115', '94560'], 'Latitude_Longitude': ['40.726,-73.998', '40.721,-74.005', '40.699,-74.041', '40.782,-73.95', '40.717,-73.987', '33.973,-118.249', '34.03,-118.353', '34.01,-118.337', '34.066,-118.309', '34.09,-118.295', '41.899,-87.637', '41.905,-87.625', '41.86,-87.619', '41.883,-87.629', '41.88,-87.63', '29.813,-95.31', '29.718,-95.428', '29.793,-95.367', '29.729,-95.366', '29.72,-95.279', '40.002,-75.118', '39.953,-75.166', '39.95,-75.164', '40.093,-75.041', '40.072,-75.208', '33.704,-112.352', '33.451,-112.071', '33.507,-112.103', '33.512,-112.142', '33.699,-112.114', '29.852,-98.729', '29.502,-98.306', '29.438,-98.462', '29.363,-98.49', '29.227,-98.609', '32.609,-117.061', '32.839,-117.262', '32.715,-117.125', '32.741,-117.244', '33.143,-117.03', '32.961,-96.838', '32.855,-96.602', '32.917,-96.973', '32.924,-96.547', '32.745,-96.46', '37.189,-121.705', '37.427,-121.975', '37.189,-121.705', '37.189,-121.705', '37.536,-122.034']}\n"
     ]
    }
   ],
   "source": [
    "# creating the dictionary to build the columns\n",
    "\n",
    "d = {}\n",
    "\n",
    "\n",
    "# using the sub children tags as the dictionary keys\n",
    "\n",
    "for i in range(0,len(names)):\n",
    "    d[names[i]] = []\n",
    "#print(d)\n",
    "\n",
    "\n",
    "# collecting all of the data\n",
    "\n",
    "for i in range(0,50):\n",
    "    for j in range(0,3):\n",
    "        #print(root[i][j].text)\n",
    "        value = root[i][j].text\n",
    "        d[names[j]].append(value)\n",
    "\n",
    "print(d)"
   ]
  },
  {
   "cell_type": "markdown",
   "metadata": {},
   "source": [
    "The final step is to convert the dictionary to a dataframe with Pandas."
   ]
  },
  {
   "cell_type": "code",
   "execution_count": 15,
   "metadata": {},
   "outputs": [
    {
     "name": "stdout",
     "output_type": "stream",
     "text": [
      "             City Zipcode Latitude_Longitude\n",
      "0   New York City   10012     40.726,-73.998\n",
      "1   New York City   10013     40.721,-74.005\n",
      "2   New York City   10004     40.699,-74.041\n",
      "3   New York City   10128      40.782,-73.95\n",
      "4   New York City   10002     40.717,-73.987\n",
      "5     Los Angeles   90001    33.973,-118.249\n",
      "6     Los Angeles   90016     34.03,-118.353\n",
      "7     Los Angeles   90008     34.01,-118.337\n",
      "8     Los Angeles   90020    34.066,-118.309\n",
      "9     Los Angeles   90029     34.09,-118.295\n",
      "10        Chicago   60610     41.899,-87.637\n",
      "11        Chicago   60611     41.905,-87.625\n",
      "12        Chicago   60605      41.86,-87.619\n",
      "13        Chicago   60602     41.883,-87.629\n",
      "14        Chicago   60603       41.88,-87.63\n",
      "15        Houston   77001      29.813,-95.31\n",
      "16        Houston   77005     29.718,-95.428\n",
      "17        Houston   77009     29.793,-95.367\n",
      "18        Houston   77004     29.729,-95.366\n",
      "19        Houston   77012      29.72,-95.279\n",
      "20   Philadelphia   19019     40.002,-75.118\n",
      "21   Philadelphia   19102     39.953,-75.166\n",
      "22   Philadelphia   19110      39.95,-75.164\n",
      "23   Philadelphia   19115     40.093,-75.041\n",
      "24   Philadelphia   19118     40.072,-75.208\n",
      "25        Phoenix   85001    33.704,-112.352\n",
      "26        Phoenix   85004    33.451,-112.071\n",
      "27        Phoenix   85015    33.507,-112.103\n",
      "28        Phoenix   85019    33.512,-112.142\n",
      "29        Phoenix   85027    33.699,-112.114\n",
      "30    San Antonio   78006     29.852,-98.729\n",
      "31    San Antonio   78109     29.502,-98.306\n",
      "32    San Antonio   78206     29.438,-98.462\n",
      "33    San Antonio   78214      29.363,-98.49\n",
      "34    San Antonio   78073     29.227,-98.609\n",
      "35      San Diego   91911    32.609,-117.061\n",
      "36      San Diego   92037    32.839,-117.262\n",
      "37      San Diego   92102    32.715,-117.125\n",
      "38      San Diego   92107    32.741,-117.244\n",
      "39      San Diego   92027     33.143,-117.03\n",
      "40         Dallas   75001     32.961,-96.838\n",
      "41         Dallas   75043     32.855,-96.602\n",
      "42         Dallas   75063     32.917,-96.973\n",
      "43         Dallas   75089     32.924,-96.547\n",
      "44         Dallas   75126      32.745,-96.46\n",
      "45       San Jose   94088    37.189,-121.705\n",
      "46       San Jose   95002    37.427,-121.975\n",
      "47       San Jose   95103    37.189,-121.705\n",
      "48       San Jose   95115    37.189,-121.705\n",
      "49       San Jose   94560    37.536,-122.034\n"
     ]
    }
   ],
   "source": [
    "df = pd.DataFrame(data=d)\n",
    "print(df)"
   ]
  }
 ],
 "metadata": {
  "kernelspec": {
   "display_name": "Python 3",
   "language": "python",
   "name": "python3"
  },
  "language_info": {
   "codemirror_mode": {
    "name": "ipython",
    "version": 3
   },
   "file_extension": ".py",
   "mimetype": "text/x-python",
   "name": "python",
   "nbconvert_exporter": "python",
   "pygments_lexer": "ipython3",
   "version": "3.7.4"
  }
 },
 "nbformat": 4,
 "nbformat_minor": 2
}
